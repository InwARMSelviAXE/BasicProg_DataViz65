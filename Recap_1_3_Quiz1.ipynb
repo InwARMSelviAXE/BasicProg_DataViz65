{
  "nbformat": 4,
  "nbformat_minor": 0,
  "metadata": {
    "colab": {
      "name": "Recap 1-3 Quiz1.ipynb",
      "provenance": [],
      "include_colab_link": true
    },
    "kernelspec": {
      "name": "python3",
      "display_name": "Python 3"
    },
    "language_info": {
      "name": "python"
    }
  },
  "cells": [
    {
      "cell_type": "markdown",
      "metadata": {
        "id": "view-in-github",
        "colab_type": "text"
      },
      "source": [
        "<a href=\"https://colab.research.google.com/github/InwARMSelviAXE/BasicProg_DataViz65/blob/main/Recap_1_3_Quiz1.ipynb\" target=\"_parent\"><img src=\"https://colab.research.google.com/assets/colab-badge.svg\" alt=\"Open In Colab\"/></a>"
      ]
    },
    {
      "cell_type": "markdown",
      "source": [
        "Quiz 1 \n",
        "\n",
        "คำนวณเวลาเป็นความต่างของเวลาเป็นวินาทีของช่วงเวลาต่อไปนี้โดยใช้คำสั่ง split() ช่วย และ print ออกมาให้สวยงาม\n",
        "\n",
        "* 09:11:50 - 12:30:15\n",
        "* 13:41:07 - 20:00:18\n",
        "* 21:30:15 - 00:00:00\n",
        "* 00:00:00 - 23:59:59\n",
        "\n",
        "\n",
        "\n",
        "\n",
        "\n"
      ],
      "metadata": {
        "id": "FKKg2s03yfKC"
      }
    },
    {
      "cell_type": "code",
      "source": [
        "# 09:11:50 - 12:30:15\n",
        "\n",
        "a = ((12*60*60) + (30*60) + 15) - ((9*60*60) + (11*60) + 50)\n",
        "print(f'09:11:50 - 12:30:15 แปลงเป็นความต่างเป็นวินาทีได้ {a} วินาที')"
      ],
      "metadata": {
        "colab": {
          "base_uri": "https://localhost:8080/"
        },
        "id": "FWzupAAk5qqD",
        "outputId": "07885a82-78ef-4124-fc11-85782581e1a7"
      },
      "execution_count": 1,
      "outputs": [
        {
          "output_type": "stream",
          "name": "stdout",
          "text": [
            "09:11:50 - 12:30:15 แปลงเป็นความต่างเป็นวินาทีได้ 11905 วินาที\n"
          ]
        }
      ]
    },
    {
      "cell_type": "code",
      "execution_count": 2,
      "metadata": {
        "id": "JHgL5URByL6e",
        "colab": {
          "base_uri": "https://localhost:8080/"
        },
        "outputId": "dc1de4c3-90f2-425e-86ec-4ac11c7f0398"
      },
      "outputs": [
        {
          "output_type": "stream",
          "name": "stdout",
          "text": [
            "13:41:07 - 20:00:18 แปลงเป็นความต่างเป็นวินาทีได้ 22751 วินาที\n"
          ]
        }
      ],
      "source": [
        "# 13:41:07 - 20:00:18\n",
        "\n",
        "b = ((20*60*60) + (0*60) + 18) - ((13*60*60) + (41*60) + 7)\n",
        "print(f'13:41:07 - 20:00:18 แปลงเป็นความต่างเป็นวินาทีได้ {b} วินาที')"
      ]
    },
    {
      "cell_type": "code",
      "source": [
        "# 21:30:15 - 00:00:00\n",
        "\n",
        "c = ((24*60*60) + (0*60) + 0) - ((21*60*60) + (30*60) + 15)\n",
        "print(f'21:30:15 - 00:00:00 แปลงเป็นความต่างเป็นวินาทีได้ {c} วินาที')"
      ],
      "metadata": {
        "colab": {
          "base_uri": "https://localhost:8080/"
        },
        "id": "d4ucrJr09U0z",
        "outputId": "1438a3d1-0965-4f32-dfe5-d8b930a41b92"
      },
      "execution_count": 3,
      "outputs": [
        {
          "output_type": "stream",
          "name": "stdout",
          "text": [
            "21:30:15 - 00:00:00 แปลงเป็นความต่างเป็นวินาทีได้ 8985 วินาที\n"
          ]
        }
      ]
    },
    {
      "cell_type": "code",
      "source": [
        "# 00:00:00 - 23:59:59\n",
        "\n",
        "d = ((23*60*60) + (59*60) + 59) - ((0*60*60) + (0*60) + 0)\n",
        "print(f'00:00:00 - 23:59:59 แปลงเป็นความต่างเป็นวินาทีได้ {d} วินาที')"
      ],
      "metadata": {
        "colab": {
          "base_uri": "https://localhost:8080/"
        },
        "id": "E70btqIf_SPc",
        "outputId": "bc61314a-bb60-41f3-943f-37fe2f37420b"
      },
      "execution_count": 11,
      "outputs": [
        {
          "output_type": "stream",
          "name": "stdout",
          "text": [
            "00:00:00 - 23:59:59 แปลงเป็นความต่างเป็นวินาทีได้ 86399 วินาที\n"
          ]
        }
      ]
    }
  ]
}